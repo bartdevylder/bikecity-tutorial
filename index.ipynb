{
 "cells": [
  {
   "cell_type": "markdown",
   "metadata": {},
   "source": [
    "#A hands-on data-science crash course for web performance monitoring with Python"
   ]
  },
  {
   "cell_type": "markdown",
   "metadata": {},
   "source": [
    "## Introduction\n",
    "\n",
    "How to get around in the iPython notebook?\n",
    "\n",
    "What is the dataset we're going to work with?\n",
    "\n",
    "Some basic visualizations of our dataset."
   ]
  },
  {
   "cell_type": "markdown",
   "metadata": {},
   "source": [
    "## Clustering\n",
    "Illustrate clustering techniques on timeseries"
   ]
  },
  {
   "cell_type": "markdown",
   "metadata": {},
   "source": [
    "## Forecasting\n",
    "Illustrate one or more techniques fo doing simple forecasts.\n",
    "\n",
    "Assignment: which disk is will run out space soonest?"
   ]
  },
  {
   "cell_type": "markdown",
   "metadata": {},
   "source": [
    "## Anomaly detection\n",
    "Illustrate problem of static alerting on seasonal data.\n",
    "\n",
    "Give some hints how to tackle this problem.\n",
    "\n",
    "Assignment: find anomalies on request rate data"
   ]
  },
  {
   "cell_type": "markdown",
   "metadata": {},
   "source": [
    "## Modeling\n",
    "Show how to use linear regression (e.g. scikits-learn?) to predict one metric based on other metrics, e.g. cpu-usage based on request rate.\n",
    "\n",
    "Assignment: which request has most impact on cpu usage?"
   ]
  }
 ],
 "metadata": {
  "kernelspec": {
   "display_name": "Python 2",
   "language": "python",
   "name": "python2"
  },
  "language_info": {
   "codemirror_mode": {
    "name": "ipython",
    "version": 2
   },
   "file_extension": ".py",
   "mimetype": "text/x-python",
   "name": "python",
   "nbconvert_exporter": "python",
   "pygments_lexer": "ipython2",
   "version": "2.7.6"
  }
 },
 "nbformat": 4,
 "nbformat_minor": 0
}
