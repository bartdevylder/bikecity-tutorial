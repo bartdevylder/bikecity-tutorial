{
 "cells": [
  {
   "cell_type": "markdown",
   "metadata": {},
   "source": [
    "# A hands-on data-science crash course for web performance monitoring with Python"
   ]
  },
  {
   "cell_type": "markdown",
   "metadata": {},
   "source": [
    "## Introduction\n",
    "\n",
    "How to get around in the iPython notebook?\n",
    "\n",
    "What is the dataset we're going to work with?\n",
    "\n",
    "Some basic visualizations of our dataset."
   ]
  },
  {
   "cell_type": "markdown",
   "metadata": {},
   "source": [
    "## Clustering\n",
    "Illustrate clustering techniques on timeseries"
   ]
  },
  {
   "cell_type": "markdown",
   "metadata": {},
   "source": [
    "## Forecasting\n",
    "Illustrate one or more techniques fo doing simple forecasts.\n",
    "\n",
    "Assignment: which disk is will run out space soonest?"
   ]
  },
  {
   "cell_type": "markdown",
   "metadata": {},
   "source": [
    "## Anomaly detection\n",
    "Illustrate problem of static alerting on seasonal data.\n",
    "\n",
    "Give some hints how to tackle this problem \n",
    "    => rolling median/mean, calculating bounds?\n",
    "\n",
    "Assignment: find anomalies on request rate data"
   ]
  },
  {
   "cell_type": "markdown",
   "metadata": {},
   "source": [
    "## Data Modeling\n",
    "Show how to use linear regression (e.g. scikits-learn?) to predict one metric based on other metrics, e.g. cpu-usage based on request rate.\n",
    "\n",
    "Assignment: which request has most impact on cpu usage?"
   ]
  },
  {
   "cell_type": "code",
   "execution_count": null,
   "metadata": {
    "collapsed": false
   },
   "outputs": [],
   "source": [
    "import matplotlib.pyplot as plt\n",
    "import numpy as np\n",
    "import pandas as pd\n",
    "import pylab\n",
    "pylab.rcParams['figure.figsize'] = (13.0, 8.0)\n",
    "%matplotlib inline"
   ]
  },
  {
   "cell_type": "code",
   "execution_count": null,
   "metadata": {
    "collapsed": false
   },
   "outputs": [],
   "source": [
    "data = pd.DataFrame.from_csv(\"data/request_rate_vs_CPU.csv\")\n",
    "data.head()"
   ]
  },
  {
   "cell_type": "markdown",
   "metadata": {},
   "source": [
    "Extracting some numpy arrays from the pandas DataFrame"
   ]
  },
  {
   "cell_type": "code",
   "execution_count": null,
   "metadata": {
    "collapsed": false
   },
   "outputs": [],
   "source": [
    "request_names = data.drop('CPU',1).columns.values\n",
    "request_names"
   ]
  },
  {
   "cell_type": "code",
   "execution_count": null,
   "metadata": {
    "collapsed": false
   },
   "outputs": [],
   "source": [
    "## request_rates is (N * R) numpy array\n",
    "request_rates = data.drop('CPU',1).values\n",
    "\n",
    "## cpu is numpy array (N)\n",
    "cpu = data['CPU'].values"
   ]
  },
  {
   "cell_type": "markdown",
   "metadata": {},
   "source": [
    "#### Simple Linear regression intro"
   ]
  },
  {
   "cell_type": "code",
   "execution_count": null,
   "metadata": {
    "collapsed": false
   },
   "outputs": [],
   "source": [
    "total_request_rate = request_rates.sum(axis=1)"
   ]
  },
  {
   "cell_type": "code",
   "execution_count": null,
   "metadata": {
    "collapsed": false
   },
   "outputs": [],
   "source": [
    "plt.figure(figsize=(15,10))\n",
    "plt.xlabel(\"Total request rate\")\n",
    "plt.ylabel(\"CPU usage\")\n",
    "plt.scatter(total_request_rate, data['CPU'])"
   ]
  },
  {
   "cell_type": "code",
   "execution_count": null,
   "metadata": {
    "collapsed": false
   },
   "outputs": [],
   "source": [
    "from sklearn import linear_model\n",
    "\n",
    "# convert the vector into matrix with 1 column\n",
    "total_request_rate_X = total_request_rate.reshape(len(total_request_rate),1)\n",
    "\n",
    "model = linear_model.LinearRegression()\n",
    "model.fit(total_request_rate_X, cpu)\n",
    "\n",
    "print \"Coefficients: \", model.coef_\n",
    "print \"Mean squared error: %.2f\" % np.mean((model.predict(total_request_rate_X) - cpu) ** 2)\n",
    "print \"Coefficient of determination: %.2f\" % model.score(total_request_rate_X, cpu)\n",
    "\n",
    "plt.figure(figsize=(15,10))\n",
    "plt.scatter(total_request_rate, cpu,  color='black')\n",
    "plt.plot(total_request_rate, model.predict(total_request_rate_X), color='blue', linewidth=3)\n",
    "plt.xlabel(\"Total request rate\")\n",
    "plt.ylabel(\"CPU usage\")\n",
    "\n",
    "plt.show()"
   ]
  },
  {
   "cell_type": "markdown",
   "metadata": {},
   "source": [
    "### Exercise: Which web requests generates most cpu-usage?"
   ]
  },
  {
   "cell_type": "code",
   "execution_count": null,
   "metadata": {
    "collapsed": false
   },
   "outputs": [],
   "source": [
    "multi_lin_model = linear_model.LinearRegression()\n",
    "multi_lin_model.fit(request_rates, cpu)\n",
    "\n",
    "print \"Coefficient: \", multi_lin_model.coef_"
   ]
  },
  {
   "cell_type": "code",
   "execution_count": null,
   "metadata": {
    "collapsed": false
   },
   "outputs": [],
   "source": [
    "sorted(zip(request_names, regr.coef_), key = lambda (r, c) : c, reverse=True)"
   ]
  },
  {
   "cell_type": "code",
   "execution_count": null,
   "metadata": {
    "collapsed": false
   },
   "outputs": [],
   "source": [
    "pd.DataFrame(_)"
   ]
  }
 ],
 "metadata": {
  "kernelspec": {
   "display_name": "Python 2",
   "language": "python",
   "name": "python2"
  },
  "language_info": {
   "codemirror_mode": {
    "name": "ipython",
    "version": 2
   },
   "file_extension": ".py",
   "mimetype": "text/x-python",
   "name": "python",
   "nbconvert_exporter": "python",
   "pygments_lexer": "ipython2",
   "version": "2.7.6"
  }
 },
 "nbformat": 4,
 "nbformat_minor": 0
}
